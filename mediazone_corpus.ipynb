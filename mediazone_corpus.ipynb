{
 "cells": [
  {
   "cell_type": "code",
   "execution_count": 15,
   "metadata": {
    "id": "QDFRRtPdnOLC"
   },
   "outputs": [],
   "source": [
    "import re\n",
    "import requests\n",
    "from bs4 import BeautifulSoup\n",
    "from tqdm import tqdm\n",
    "import pandas as pd"
   ]
  },
  {
   "cell_type": "code",
   "execution_count": null,
   "metadata": {
    "id": "0XTh7FwjnOLH"
   },
   "outputs": [],
   "source": [
    "links = []\n",
    "for i in range(36):\n",
    "    links.append('https://zona.media/_load?selector=onlines&page={}&total=887&excludeIds=51745%2C51314%2C51201%2C51154%2C50720&type=&_=1634045363911'.format(i))"
   ]
  },
  {
   "cell_type": "code",
   "execution_count": null,
   "metadata": {
    "id": "wvhaIogEnOLI",
    "outputId": "cc2a58bc-30cd-4a48-b4eb-a56395f2f6e1"
   },
   "outputs": [
    {
     "data": {
      "text/plain": [
       "'https://zona.media/_load?selector=onlines&page=0&total=887&excludeIds=51745%2C51314%2C51201%2C51154%2C50720&type=&_=1634045363911'"
      ]
     },
     "execution_count": 35,
     "metadata": {},
     "output_type": "execute_result"
    }
   ],
   "source": [
    "links[0]"
   ]
  },
  {
   "cell_type": "code",
   "execution_count": null,
   "metadata": {
    "id": "hOMB0-vJnOLK",
    "outputId": "961e0cf4-4534-423f-fc49-4d24ce52625f",
    "scrolled": false
   },
   "outputs": [
    {
     "name": "stderr",
     "output_type": "stream",
     "text": [
      "100%|██████████| 36/36 [00:31<00:00,  1.15it/s]\n"
     ]
    }
   ],
   "source": [
    "articles = []\n",
    "for l in tqdm(links):\n",
    "    page = requests.get(l)\n",
    "    soup = BeautifulSoup(page.content, features = 'html.parser')\n",
    "    html = str(soup)\n",
    "    arts = re.findall('inner.{50}href.{4}(.+?).{1}\"', html)\n",
    "    for a in arts:\n",
    "        articles.append('https://zona.media{}'.format(a))\n",
    "    "
   ]
  },
  {
   "cell_type": "code",
   "execution_count": null,
   "metadata": {
    "id": "RV7PHFq-nOLL",
    "outputId": "f146006b-79e7-42cf-b347-df13550fced5",
    "scrolled": false
   },
   "outputs": [
    {
     "data": {
      "text/plain": [
       "710"
      ]
     },
     "execution_count": 86,
     "metadata": {},
     "output_type": "execute_result"
    }
   ],
   "source": [
    "len(articles)"
   ]
  },
  {
   "cell_type": "code",
   "execution_count": null,
   "metadata": {
    "id": "T2VR9-KGnOLL",
    "outputId": "3395ebcc-fd13-4263-be7d-1685311b9804",
    "scrolled": true
   },
   "outputs": [
    {
     "data": {
      "text/plain": [
       "['https://zona.media//online/2021/04/29/navalny-appeal',\n",
       " 'https://zona.media//online/2021/04/22/navalny-after',\n",
       " 'https://zona.media//online/2021/04/21/navalny-msk-spb',\n",
       " 'https://zona.media//online/2021/04/21/all-russia',\n",
       " 'https://zona.media//online/2021/04/14/doxa',\n",
       " 'https://zona.media//online/2021/04/14/sobol-5',\n",
       " 'https://zona.media//online/2021/04/13/sobol-3',\n",
       " 'https://zona.media//online/2021/04/12/sobol-3',\n",
       " 'https://zona.media//online/2021/03/23/lomov23',\n",
       " 'https://zona.media//online/2021/03/22/golunov14']"
      ]
     },
     "execution_count": 87,
     "metadata": {},
     "output_type": "execute_result"
    }
   ],
   "source": [
    "articles[:10]"
   ]
  },
  {
   "cell_type": "code",
   "execution_count": null,
   "metadata": {
    "id": "aUtKjoiCnOLN",
    "outputId": "cad17710-28d3-46f1-df34-d99645d16c82",
    "scrolled": true
   },
   "outputs": [
    {
     "name": "stderr",
     "output_type": "stream",
     "text": [
      "100%|██████████| 710/710 [16:49<00:00,  1.42s/it]  \n"
     ]
    }
   ],
   "source": [
    "texts = []\n",
    "titles = []\n",
    "dates = []\n",
    "sources = []\n",
    "\n",
    "for url in tqdm(articles):\n",
    "    try:\n",
    "        page = requests.get(url)\n",
    "        soup = BeautifulSoup(page.content, features = 'html.parser')\n",
    "    \n",
    "        try:\n",
    "            soup.figure.decompose()\n",
    "        except AttributeError:\n",
    "            pass\n",
    "    \n",
    "        title = soup.find('header', class_='mz-publish__title').getText()\n",
    "        date = soup.find_all('div', class_='mz-publish-meta__item')[1].getText().split(',')[0]\n",
    "        statements = soup.find_all('body')[1:]\n",
    "        titles.append(title)\n",
    "        dates.append(date)\n",
    "        sources.append(url)\n",
    "        sents = []\n",
    "        \n",
    "        for statement in statements:\n",
    "            sent = statement.getText()\n",
    "            sents.append(sent.strip())\n",
    "        \n",
    "        texts.append(\" \".join(sents))\n",
    "    \n",
    "    except ConnectionError as err:\n",
    "        print(err)"
   ]
  },
  {
   "cell_type": "code",
   "execution_count": null,
   "metadata": {
    "id": "QW-3JUctnOLO",
    "outputId": "d5cd861b-cb39-44d2-a46f-1514fb6fb8b8"
   },
   "outputs": [
    {
     "name": "stdout",
     "output_type": "stream",
     "text": [
      "710 710 710 710\n"
     ]
    }
   ],
   "source": [
    "print(len(titles), len(texts), len(dates), len(sources))"
   ]
  },
  {
   "cell_type": "code",
   "execution_count": null,
   "metadata": {
    "id": "eKTWvpiqnOLP"
   },
   "outputs": [],
   "source": [
    "df = pd.DataFrame({\n",
    "    'title': titles,\n",
    "    'text': texts,\n",
    "    'date': dates,\n",
    "    'source': sources\n",
    "})"
   ]
  },
  {
   "cell_type": "code",
   "execution_count": null,
   "metadata": {
    "id": "3PXubfZWnOLQ",
    "outputId": "cd8ffade-8a70-49b6-e5a0-d9dbc44789a2",
    "scrolled": false
   },
   "outputs": [
    {
     "data": {
      "text/html": [
       "<div>\n",
       "<style scoped>\n",
       "    .dataframe tbody tr th:only-of-type {\n",
       "        vertical-align: middle;\n",
       "    }\n",
       "\n",
       "    .dataframe tbody tr th {\n",
       "        vertical-align: top;\n",
       "    }\n",
       "\n",
       "    .dataframe thead th {\n",
       "        text-align: right;\n",
       "    }\n",
       "</style>\n",
       "<table border=\"1\" class=\"dataframe\">\n",
       "  <thead>\n",
       "    <tr style=\"text-align: right;\">\n",
       "      <th></th>\n",
       "      <th>title</th>\n",
       "      <th>text</th>\n",
       "      <th>date</th>\n",
       "      <th>source</th>\n",
       "    </tr>\n",
       "  </thead>\n",
       "  <tbody>\n",
       "    <tr>\n",
       "      <th>0</th>\n",
       "      <td>Навальный и дело о клевете на ветерана. Апелляция</td>\n",
       "      <td>В середине июня 2020 года Следственный комитет...</td>\n",
       "      <td>29 апреля 2021</td>\n",
       "      <td>https://zona.media/online/2021/04/29/navalny-a...</td>\n",
       "    </tr>\n",
       "    <tr>\n",
       "      <th>1</th>\n",
       "      <td>«Свободу Навальному». После протестов</td>\n",
       "      <td>«ОВД-Инфо» обновил списки задержанных на акция...</td>\n",
       "      <td>22 апреля 2021</td>\n",
       "      <td>https://zona.media/online/2021/04/22/navalny-a...</td>\n",
       "    </tr>\n",
       "    <tr>\n",
       "      <th>2</th>\n",
       "      <td>«Свободу Навальному». Акции в Москве и Петербурге</td>\n",
       "      <td>Первоначально соратники Алексея Навального соб...</td>\n",
       "      <td>21 апреля 2021</td>\n",
       "      <td>https://zona.media/online/2021/04/21/navalny-m...</td>\n",
       "    </tr>\n",
       "    <tr>\n",
       "      <th>3</th>\n",
       "      <td>«Свободу Навальному». Протесты по всей России</td>\n",
       "      <td>По данным сайта «Свободу Навальному», акции пр...</td>\n",
       "      <td>21 апреля 2021</td>\n",
       "      <td>https://zona.media/online/2021/04/21/all-russia</td>\n",
       "    </tr>\n",
       "    <tr>\n",
       "      <th>4</th>\n",
       "      <td>Дело о митингах и подростках. Мера пресечения ...</td>\n",
       "      <td>Утром 14 апреля силовики пришли с обысками к ж...</td>\n",
       "      <td>14 апреля 2021</td>\n",
       "      <td>https://zona.media/online/2021/04/14/doxa</td>\n",
       "    </tr>\n",
       "    <tr>\n",
       "      <th>5</th>\n",
       "      <td>«Квартирное дело». Соболь в суде. День пятый</td>\n",
       "      <td>Предыдущее заседание в Перовском суде началось...</td>\n",
       "      <td>14 апреля 2021</td>\n",
       "      <td>https://zona.media/online/2021/04/14/sobol-5</td>\n",
       "    </tr>\n",
       "    <tr>\n",
       "      <th>6</th>\n",
       "      <td>«Квартирное дело». Соболь в суде. День четвертый</td>\n",
       "      <td>На прошлом заседании Любовь Соболь все же допу...</td>\n",
       "      <td>13 апреля 2021</td>\n",
       "      <td>https://zona.media/online/2021/04/13/sobol-3</td>\n",
       "    </tr>\n",
       "    <tr>\n",
       "      <th>7</th>\n",
       "      <td>«Квартирное дело». Соболь в суде. День третий</td>\n",
       "      <td>В Перовском районном суде продолжается выездно...</td>\n",
       "      <td>12 апреля 2021</td>\n",
       "      <td>https://zona.media/online/2021/04/12/sobol-3</td>\n",
       "    </tr>\n",
       "    <tr>\n",
       "      <th>8</th>\n",
       "      <td>Геодезист Ломов. Условный срок за акцию протес...</td>\n",
       "      <td>39-летнего инженера лесного хозяйства из Петер...</td>\n",
       "      <td>23 марта 2021</td>\n",
       "      <td>https://zona.media/online/2021/03/23/lomov23</td>\n",
       "    </tr>\n",
       "    <tr>\n",
       "      <th>9</th>\n",
       "      <td>Суд над полицейскими по делу Голунова. День 14</td>\n",
       "      <td>На заседании 18 марта суд завершил в закрытом ...</td>\n",
       "      <td>22 марта 2021</td>\n",
       "      <td>https://zona.media/online/2021/03/22/golunov14</td>\n",
       "    </tr>\n",
       "  </tbody>\n",
       "</table>\n",
       "</div>"
      ],
      "text/plain": [
       "                                               title  \\\n",
       "0  Навальный и дело о клевете на ветерана. Апелляция   \n",
       "1              «Свободу Навальному». После протестов   \n",
       "2  «Свободу Навальному». Акции в Москве и Петербурге   \n",
       "3      «Свободу Навальному». Протесты по всей России   \n",
       "4  Дело о митингах и подростках. Мера пресечения ...   \n",
       "5       «Квартирное дело». Соболь в суде. День пятый   \n",
       "6   «Квартирное дело». Соболь в суде. День четвертый   \n",
       "7      «Квартирное дело». Соболь в суде. День третий   \n",
       "8  Геодезист Ломов. Условный срок за акцию протес...   \n",
       "9     Суд над полицейскими по делу Голунова. День 14   \n",
       "\n",
       "                                                text            date  \\\n",
       "0  В середине июня 2020 года Следственный комитет...  29 апреля 2021   \n",
       "1  «ОВД-Инфо» обновил списки задержанных на акция...  22 апреля 2021   \n",
       "2  Первоначально соратники Алексея Навального соб...  21 апреля 2021   \n",
       "3  По данным сайта «Свободу Навальному», акции пр...  21 апреля 2021   \n",
       "4  Утром 14 апреля силовики пришли с обысками к ж...  14 апреля 2021   \n",
       "5  Предыдущее заседание в Перовском суде началось...  14 апреля 2021   \n",
       "6  На прошлом заседании Любовь Соболь все же допу...  13 апреля 2021   \n",
       "7  В Перовском районном суде продолжается выездно...  12 апреля 2021   \n",
       "8  39-летнего инженера лесного хозяйства из Петер...   23 марта 2021   \n",
       "9  На заседании 18 марта суд завершил в закрытом ...   22 марта 2021   \n",
       "\n",
       "                                              source  \n",
       "0  https://zona.media/online/2021/04/29/navalny-a...  \n",
       "1  https://zona.media/online/2021/04/22/navalny-a...  \n",
       "2  https://zona.media/online/2021/04/21/navalny-m...  \n",
       "3    https://zona.media/online/2021/04/21/all-russia  \n",
       "4          https://zona.media/online/2021/04/14/doxa  \n",
       "5       https://zona.media/online/2021/04/14/sobol-5  \n",
       "6       https://zona.media/online/2021/04/13/sobol-3  \n",
       "7       https://zona.media/online/2021/04/12/sobol-3  \n",
       "8       https://zona.media/online/2021/03/23/lomov23  \n",
       "9     https://zona.media/online/2021/03/22/golunov14  "
      ]
     },
     "execution_count": 99,
     "metadata": {},
     "output_type": "execute_result"
    }
   ],
   "source": [
    "df.head(10)"
   ]
  },
  {
   "cell_type": "code",
   "execution_count": null,
   "metadata": {
    "id": "2b6nMZNWnOLQ"
   },
   "outputs": [],
   "source": [
    "df.to_csv('/Users/zoiabutenko/PycharmProjects/3rdcourse/project/corpus.csv')"
   ]
  },
  {
   "cell_type": "code",
   "execution_count": 4,
   "metadata": {
    "id": "mDuqPaYknOLR"
   },
   "outputs": [],
   "source": [
    "import sqlite3"
   ]
  },
  {
   "cell_type": "code",
   "execution_count": 5,
   "metadata": {
    "id": "3AjA2ecKnOLR"
   },
   "outputs": [],
   "source": [
    "conn = sqlite3.connect('corpus.db')  # подключение\n",
    "cur = conn.cursor()  # курсор"
   ]
  },
  {
   "cell_type": "code",
   "execution_count": 1,
   "metadata": {
    "id": "hIe-xfIVnOLS"
   },
   "outputs": [],
   "source": [
    "import stanza"
   ]
  },
  {
   "cell_type": "code",
   "execution_count": 2,
   "metadata": {
    "colab": {
     "base_uri": "https://localhost:8080/",
     "height": 171,
     "referenced_widgets": [
      "3e8a2fba528f4582923bb33a17fa4933",
      "f9be1436833d40deb4c997966768143d",
      "92be5bd546994960baff052d1ca72682",
      "f4c9b03f74d24632a4ab46c18e43368f",
      "6fabfba4817040aea96d849111f0ba98",
      "4bd43e56333e407e90be91257ed0bd50",
      "e79a1f789bcd4b20846f040b93d28577",
      "d83d6c0229564e959a04413be3fe46c4",
      "007589a5cf1f4550b353376f74f969a2",
      "6979ed45c13041d7b95bf4f9e565ada4",
      "99547bb7808740b588a16bf66c73b103"
     ]
    },
    "id": "co-6r82VnOLZ",
    "outputId": "d14ff6b0-54b7-41a2-f9e3-cab6df93ccb1"
   },
   "outputs": [
    {
     "name": "stderr",
     "output_type": "stream",
     "text": [
      "Downloading https://raw.githubusercontent.com/stanfordnlp/stanza-resources/master/resources_1.0.0.json: 120kB [00:00, 1.26MB/s]                    \n",
      "2021-10-15 15:09:46 INFO: Downloading default packages for language: ru (Russian)...\n",
      "2021-10-15 15:09:48 INFO: File exists: /Users/zoiabutenko/stanza_resources/ru/default.zip.\n",
      "2021-10-15 15:09:56 INFO: Finished downloading models and saved to /Users/zoiabutenko/stanza_resources.\n"
     ]
    }
   ],
   "source": [
    "stanza.download('ru')"
   ]
  },
  {
   "cell_type": "code",
   "execution_count": 19,
   "metadata": {
    "colab": {
     "base_uri": "https://localhost:8080/"
    },
    "id": "fMepd07GSAEh",
    "outputId": "2a7dace1-5d79-434f-dd4d-64085569f831"
   },
   "outputs": [
    {
     "name": "stderr",
     "output_type": "stream",
     "text": [
      "2021-10-12 20:53:49 INFO: Loading these models for language: ru (Russian):\n",
      "=========================\n",
      "| Processor | Package   |\n",
      "-------------------------\n",
      "| tokenize  | syntagrus |\n",
      "| pos       | syntagrus |\n",
      "| lemma     | syntagrus |\n",
      "=========================\n",
      "\n",
      "2021-10-12 20:53:49 INFO: Use device: cpu\n",
      "2021-10-12 20:53:49 INFO: Loading: tokenize\n",
      "2021-10-12 20:53:49 INFO: Loading: pos\n",
      "2021-10-12 20:53:49 INFO: Loading: lemma\n",
      "2021-10-12 20:53:50 INFO: Done loading processors!\n"
     ]
    }
   ],
   "source": [
    "nlp = stanza.Pipeline(lang='RU', processors='tokenize,pos,lemma')"
   ]
  },
  {
   "cell_type": "code",
   "execution_count": 20,
   "metadata": {
    "id": "-P-35462pDYI"
   },
   "outputs": [],
   "source": [
    "def parse_text(text_):\n",
    "  doc = nlp(text_)\n",
    "  stanza_tagged = []\n",
    "  for sent in range(len(doc.sentences)):\n",
    "      for word in range(len(doc.sentences[sent].words)):\n",
    "          stanza_tagged.append((doc.sentences[sent].words[word].text, \n",
    "                                doc.sentences[sent].words[word].lemma, \n",
    "                                doc.sentences[sent].words[word].upos,\n",
    "                                word, sent))\n",
    "  return stanza_tagged"
   ]
  },
  {
   "cell_type": "code",
   "execution_count": 12,
   "metadata": {
    "id": "2-4QgJNXsZd-"
   },
   "outputs": [],
   "source": [
    "query = '''\n",
    "SELECT * FROM corpus\n",
    "'''\n",
    "\n",
    "df = pd.read_sql_query(query, con=conn)"
   ]
  },
  {
   "cell_type": "code",
   "execution_count": 13,
   "metadata": {
    "colab": {
     "base_uri": "https://localhost:8080/",
     "height": 193
    },
    "id": "eVouecg9sZWZ",
    "outputId": "f3b9c831-7d42-402b-8d9c-4a83b147ef95"
   },
   "outputs": [
    {
     "data": {
      "text/html": [
       "<div>\n",
       "<style scoped>\n",
       "    .dataframe tbody tr th:only-of-type {\n",
       "        vertical-align: middle;\n",
       "    }\n",
       "\n",
       "    .dataframe tbody tr th {\n",
       "        vertical-align: top;\n",
       "    }\n",
       "\n",
       "    .dataframe thead th {\n",
       "        text-align: right;\n",
       "    }\n",
       "</style>\n",
       "<table border=\"1\" class=\"dataframe\">\n",
       "  <thead>\n",
       "    <tr style=\"text-align: right;\">\n",
       "      <th></th>\n",
       "      <th>index</th>\n",
       "      <th>title</th>\n",
       "      <th>text</th>\n",
       "      <th>date</th>\n",
       "      <th>source</th>\n",
       "    </tr>\n",
       "  </thead>\n",
       "  <tbody>\n",
       "    <tr>\n",
       "      <th>0</th>\n",
       "      <td>0</td>\n",
       "      <td>Навальный и дело о клевете на ветерана. Апелляция</td>\n",
       "      <td>В середине июня 2020 года Следственный комитет...</td>\n",
       "      <td>29 апреля 2021</td>\n",
       "      <td>https://zona.media/online/2021/04/29/navalny-a...</td>\n",
       "    </tr>\n",
       "    <tr>\n",
       "      <th>1</th>\n",
       "      <td>1</td>\n",
       "      <td>«Свободу Навальному». После протестов</td>\n",
       "      <td>«ОВД-Инфо» обновил списки задержанных на акция...</td>\n",
       "      <td>22 апреля 2021</td>\n",
       "      <td>https://zona.media/online/2021/04/22/navalny-a...</td>\n",
       "    </tr>\n",
       "    <tr>\n",
       "      <th>2</th>\n",
       "      <td>2</td>\n",
       "      <td>«Свободу Навальному». Акции в Москве и Петербурге</td>\n",
       "      <td>Первоначально соратники Алексея Навального соб...</td>\n",
       "      <td>21 апреля 2021</td>\n",
       "      <td>https://zona.media/online/2021/04/21/navalny-m...</td>\n",
       "    </tr>\n",
       "  </tbody>\n",
       "</table>\n",
       "</div>"
      ],
      "text/plain": [
       "   index  ...                                             source\n",
       "0      0  ...  https://zona.media/online/2021/04/29/navalny-a...\n",
       "1      1  ...  https://zona.media/online/2021/04/22/navalny-a...\n",
       "2      2  ...  https://zona.media/online/2021/04/21/navalny-m...\n",
       "\n",
       "[3 rows x 5 columns]"
      ]
     },
     "execution_count": 13,
     "metadata": {},
     "output_type": "execute_result"
    }
   ],
   "source": [
    "df.head(3)"
   ]
  },
  {
   "cell_type": "code",
   "execution_count": 21,
   "metadata": {
    "colab": {
     "base_uri": "https://localhost:8080/"
    },
    "id": "g2QFLZ0-uV07",
    "outputId": "a87fcee6-e4f6-4fbb-e021-7aa1bdd8bf2f"
   },
   "outputs": [
    {
     "name": "stderr",
     "output_type": "stream",
     "text": [
      "100%|██████████| 710/710 [1:23:48<00:00,  7.08s/it]\n"
     ]
    }
   ],
   "source": [
    "indexes = []\n",
    "ord_words = []\n",
    "sentence_nums = []\n",
    "tokens = []\n",
    "lemmas = []\n",
    "poses = []\n",
    "\n",
    "for i in tqdm(range(len(list(df['text'])))):\n",
    "  tagged = parse_text(list(df['text'])[i])\n",
    "  for t in tagged:\n",
    "    indexes.append(i)\n",
    "    ord_words.append(t[3])\n",
    "    sentence_nums.append(t[4])\n",
    "    tokens.append(t[0])\n",
    "    lemmas.append(t[1])\n",
    "    poses.append(t[2])"
   ]
  },
  {
   "cell_type": "code",
   "execution_count": 17,
   "metadata": {
    "colab": {
     "base_uri": "https://localhost:8080/"
    },
    "id": "2lxljcCtO8lI",
    "outputId": "e07958c8-ff81-4a8f-f118-95c50c6a50f7"
   },
   "outputs": [
    {
     "data": {
      "text/plain": [
       "(446909, 446909, 446909, 446909, 446909, 446909)"
      ]
     },
     "execution_count": 17,
     "metadata": {},
     "output_type": "execute_result"
    }
   ],
   "source": [
    "len(indexes), len(ord_words), len(sentence_nums), len(tokens), len(lemmas), len(poses)"
   ]
  },
  {
   "cell_type": "code",
   "execution_count": 22,
   "metadata": {
    "id": "91VcWP7VOVzN"
   },
   "outputs": [],
   "source": [
    "df_tokens = pd.DataFrame({\n",
    "    'index_id': indexes,\n",
    "    'word_num': ord_words,\n",
    "    'sentence_num': sentence_nums,\n",
    "    'token': tokens,\n",
    "    'lemma': lemmas,\n",
    "    'pos': poses\n",
    "})"
   ]
  },
  {
   "cell_type": "code",
   "execution_count": 23,
   "metadata": {
    "colab": {
     "base_uri": "https://localhost:8080/",
     "height": 359
    },
    "id": "0WMiuOY6VYK9",
    "outputId": "3eca4202-4863-4a62-a079-85a5e5b297d0"
   },
   "outputs": [
    {
     "data": {
      "text/html": [
       "<div>\n",
       "<style scoped>\n",
       "    .dataframe tbody tr th:only-of-type {\n",
       "        vertical-align: middle;\n",
       "    }\n",
       "\n",
       "    .dataframe tbody tr th {\n",
       "        vertical-align: top;\n",
       "    }\n",
       "\n",
       "    .dataframe thead th {\n",
       "        text-align: right;\n",
       "    }\n",
       "</style>\n",
       "<table border=\"1\" class=\"dataframe\">\n",
       "  <thead>\n",
       "    <tr style=\"text-align: right;\">\n",
       "      <th></th>\n",
       "      <th>index_id</th>\n",
       "      <th>word_num</th>\n",
       "      <th>sentence_num</th>\n",
       "      <th>token</th>\n",
       "      <th>lemma</th>\n",
       "      <th>pos</th>\n",
       "    </tr>\n",
       "  </thead>\n",
       "  <tbody>\n",
       "    <tr>\n",
       "      <th>55278</th>\n",
       "      <td>16</td>\n",
       "      <td>10</td>\n",
       "      <td>145</td>\n",
       "      <td>документ</td>\n",
       "      <td>документ</td>\n",
       "      <td>NOUN</td>\n",
       "    </tr>\n",
       "    <tr>\n",
       "      <th>1522228</th>\n",
       "      <td>438</td>\n",
       "      <td>7</td>\n",
       "      <td>74</td>\n",
       "      <td>рядом</td>\n",
       "      <td>ряд</td>\n",
       "      <td>NOUN</td>\n",
       "    </tr>\n",
       "    <tr>\n",
       "      <th>659400</th>\n",
       "      <td>195</td>\n",
       "      <td>5</td>\n",
       "      <td>39</td>\n",
       "      <td>позвонила</td>\n",
       "      <td>звонить</td>\n",
       "      <td>VERB</td>\n",
       "    </tr>\n",
       "    <tr>\n",
       "      <th>2311470</th>\n",
       "      <td>641</td>\n",
       "      <td>14</td>\n",
       "      <td>266</td>\n",
       "      <td>присяжных</td>\n",
       "      <td>присяжный</td>\n",
       "      <td>NOUN</td>\n",
       "    </tr>\n",
       "    <tr>\n",
       "      <th>2480989</th>\n",
       "      <td>679</td>\n",
       "      <td>1</td>\n",
       "      <td>47</td>\n",
       "      <td>В</td>\n",
       "      <td>в</td>\n",
       "      <td>ADP</td>\n",
       "    </tr>\n",
       "    <tr>\n",
       "      <th>1782138</th>\n",
       "      <td>515</td>\n",
       "      <td>19</td>\n",
       "      <td>13</td>\n",
       "      <td>инцидента</td>\n",
       "      <td>инцидент</td>\n",
       "      <td>NOUN</td>\n",
       "    </tr>\n",
       "    <tr>\n",
       "      <th>1342828</th>\n",
       "      <td>392</td>\n",
       "      <td>5</td>\n",
       "      <td>162</td>\n",
       "      <td>Собянин</td>\n",
       "      <td>Собянин</td>\n",
       "      <td>PROPN</td>\n",
       "    </tr>\n",
       "    <tr>\n",
       "      <th>1348512</th>\n",
       "      <td>395</td>\n",
       "      <td>15</td>\n",
       "      <td>13</td>\n",
       "      <td>,</td>\n",
       "      <td>,</td>\n",
       "      <td>PUNCT</td>\n",
       "    </tr>\n",
       "    <tr>\n",
       "      <th>862304</th>\n",
       "      <td>244</td>\n",
       "      <td>1</td>\n",
       "      <td>316</td>\n",
       "      <td>узнает</td>\n",
       "      <td>узнавать</td>\n",
       "      <td>VERB</td>\n",
       "    </tr>\n",
       "    <tr>\n",
       "      <th>2527782</th>\n",
       "      <td>704</td>\n",
       "      <td>74</td>\n",
       "      <td>21</td>\n",
       "      <td>идеологической</td>\n",
       "      <td>идеологический</td>\n",
       "      <td>ADJ</td>\n",
       "    </tr>\n",
       "  </tbody>\n",
       "</table>\n",
       "</div>"
      ],
      "text/plain": [
       "         index_id  word_num  ...           lemma    pos\n",
       "55278          16        10  ...        документ   NOUN\n",
       "1522228       438         7  ...             ряд   NOUN\n",
       "659400        195         5  ...         звонить   VERB\n",
       "2311470       641        14  ...       присяжный   NOUN\n",
       "2480989       679         1  ...               в    ADP\n",
       "1782138       515        19  ...        инцидент   NOUN\n",
       "1342828       392         5  ...         Собянин  PROPN\n",
       "1348512       395        15  ...               ,  PUNCT\n",
       "862304        244         1  ...        узнавать   VERB\n",
       "2527782       704        74  ...  идеологический    ADJ\n",
       "\n",
       "[10 rows x 6 columns]"
      ]
     },
     "execution_count": 23,
     "metadata": {},
     "output_type": "execute_result"
    }
   ],
   "source": [
    "df_tokens.sample(10)"
   ]
  },
  {
   "cell_type": "code",
   "execution_count": 24,
   "metadata": {
    "id": "kc7Ga1XQVbdS"
   },
   "outputs": [],
   "source": [
    "df_tokens.to_sql('tokens', con=conn)"
   ]
  },
  {
   "cell_type": "code",
   "execution_count": 25,
   "metadata": {
    "colab": {
     "base_uri": "https://localhost:8080/"
    },
    "id": "WaZS_ss3mnKO",
    "outputId": "652579f7-392e-4d0f-c599-cbeb2ed78f53"
   },
   "outputs": [
    {
     "data": {
      "text/plain": [
       "174194688"
      ]
     },
     "execution_count": 25,
     "metadata": {},
     "output_type": "execute_result"
    }
   ],
   "source": [
    "import os\n",
    "os.path.getsize('corpus.db')"
   ]
  }
 ],
 "metadata": {
  "colab": {
   "name": "mediazone_corpus.ipynb",
   "provenance": []
  },
  "kernelspec": {
   "display_name": "Python 3",
   "language": "python",
   "name": "python3"
  },
  "language_info": {
   "codemirror_mode": {
    "name": "ipython",
    "version": 3
   },
   "file_extension": ".py",
   "mimetype": "text/x-python",
   "name": "python",
   "nbconvert_exporter": "python",
   "pygments_lexer": "ipython3",
   "version": "3.7.4"
  },
  "widgets": {
   "application/vnd.jupyter.widget-state+json": {
    "007589a5cf1f4550b353376f74f969a2": {
     "model_module": "@jupyter-widgets/base",
     "model_module_version": "1.2.0",
     "model_name": "LayoutModel",
     "state": {
      "_model_module": "@jupyter-widgets/base",
      "_model_module_version": "1.2.0",
      "_model_name": "LayoutModel",
      "_view_count": null,
      "_view_module": "@jupyter-widgets/base",
      "_view_module_version": "1.2.0",
      "_view_name": "LayoutView",
      "align_content": null,
      "align_items": null,
      "align_self": null,
      "border": null,
      "bottom": null,
      "display": null,
      "flex": null,
      "flex_flow": null,
      "grid_area": null,
      "grid_auto_columns": null,
      "grid_auto_flow": null,
      "grid_auto_rows": null,
      "grid_column": null,
      "grid_gap": null,
      "grid_row": null,
      "grid_template_areas": null,
      "grid_template_columns": null,
      "grid_template_rows": null,
      "height": null,
      "justify_content": null,
      "justify_items": null,
      "left": null,
      "margin": null,
      "max_height": null,
      "max_width": null,
      "min_height": null,
      "min_width": null,
      "object_fit": null,
      "object_position": null,
      "order": null,
      "overflow": null,
      "overflow_x": null,
      "overflow_y": null,
      "padding": null,
      "right": null,
      "top": null,
      "visibility": null,
      "width": null
     }
    },
    "3e8a2fba528f4582923bb33a17fa4933": {
     "model_module": "@jupyter-widgets/controls",
     "model_module_version": "1.5.0",
     "model_name": "HBoxModel",
     "state": {
      "_dom_classes": [],
      "_model_module": "@jupyter-widgets/controls",
      "_model_module_version": "1.5.0",
      "_model_name": "HBoxModel",
      "_view_count": null,
      "_view_module": "@jupyter-widgets/controls",
      "_view_module_version": "1.5.0",
      "_view_name": "HBoxView",
      "box_style": "",
      "children": [
       "IPY_MODEL_92be5bd546994960baff052d1ca72682",
       "IPY_MODEL_f4c9b03f74d24632a4ab46c18e43368f",
       "IPY_MODEL_6fabfba4817040aea96d849111f0ba98"
      ],
      "layout": "IPY_MODEL_f9be1436833d40deb4c997966768143d"
     }
    },
    "4bd43e56333e407e90be91257ed0bd50": {
     "model_module": "@jupyter-widgets/controls",
     "model_module_version": "1.5.0",
     "model_name": "DescriptionStyleModel",
     "state": {
      "_model_module": "@jupyter-widgets/controls",
      "_model_module_version": "1.5.0",
      "_model_name": "DescriptionStyleModel",
      "_view_count": null,
      "_view_module": "@jupyter-widgets/base",
      "_view_module_version": "1.2.0",
      "_view_name": "StyleView",
      "description_width": ""
     }
    },
    "6979ed45c13041d7b95bf4f9e565ada4": {
     "model_module": "@jupyter-widgets/controls",
     "model_module_version": "1.5.0",
     "model_name": "DescriptionStyleModel",
     "state": {
      "_model_module": "@jupyter-widgets/controls",
      "_model_module_version": "1.5.0",
      "_model_name": "DescriptionStyleModel",
      "_view_count": null,
      "_view_module": "@jupyter-widgets/base",
      "_view_module_version": "1.2.0",
      "_view_name": "StyleView",
      "description_width": ""
     }
    },
    "6fabfba4817040aea96d849111f0ba98": {
     "model_module": "@jupyter-widgets/controls",
     "model_module_version": "1.5.0",
     "model_name": "HTMLModel",
     "state": {
      "_dom_classes": [],
      "_model_module": "@jupyter-widgets/controls",
      "_model_module_version": "1.5.0",
      "_model_name": "HTMLModel",
      "_view_count": null,
      "_view_module": "@jupyter-widgets/controls",
      "_view_module_version": "1.5.0",
      "_view_name": "HTMLView",
      "description": "",
      "description_tooltip": null,
      "layout": "IPY_MODEL_99547bb7808740b588a16bf66c73b103",
      "placeholder": "​",
      "style": "IPY_MODEL_6979ed45c13041d7b95bf4f9e565ada4",
      "value": " 141k/? [00:00&lt;00:00, 2.77MB/s]"
     }
    },
    "92be5bd546994960baff052d1ca72682": {
     "model_module": "@jupyter-widgets/controls",
     "model_module_version": "1.5.0",
     "model_name": "HTMLModel",
     "state": {
      "_dom_classes": [],
      "_model_module": "@jupyter-widgets/controls",
      "_model_module_version": "1.5.0",
      "_model_name": "HTMLModel",
      "_view_count": null,
      "_view_module": "@jupyter-widgets/controls",
      "_view_module_version": "1.5.0",
      "_view_name": "HTMLView",
      "description": "",
      "description_tooltip": null,
      "layout": "IPY_MODEL_e79a1f789bcd4b20846f040b93d28577",
      "placeholder": "​",
      "style": "IPY_MODEL_4bd43e56333e407e90be91257ed0bd50",
      "value": "Downloading https://raw.githubusercontent.com/stanfordnlp/stanza-resources/main/resources_1.3.0.json: "
     }
    },
    "99547bb7808740b588a16bf66c73b103": {
     "model_module": "@jupyter-widgets/base",
     "model_module_version": "1.2.0",
     "model_name": "LayoutModel",
     "state": {
      "_model_module": "@jupyter-widgets/base",
      "_model_module_version": "1.2.0",
      "_model_name": "LayoutModel",
      "_view_count": null,
      "_view_module": "@jupyter-widgets/base",
      "_view_module_version": "1.2.0",
      "_view_name": "LayoutView",
      "align_content": null,
      "align_items": null,
      "align_self": null,
      "border": null,
      "bottom": null,
      "display": null,
      "flex": null,
      "flex_flow": null,
      "grid_area": null,
      "grid_auto_columns": null,
      "grid_auto_flow": null,
      "grid_auto_rows": null,
      "grid_column": null,
      "grid_gap": null,
      "grid_row": null,
      "grid_template_areas": null,
      "grid_template_columns": null,
      "grid_template_rows": null,
      "height": null,
      "justify_content": null,
      "justify_items": null,
      "left": null,
      "margin": null,
      "max_height": null,
      "max_width": null,
      "min_height": null,
      "min_width": null,
      "object_fit": null,
      "object_position": null,
      "order": null,
      "overflow": null,
      "overflow_x": null,
      "overflow_y": null,
      "padding": null,
      "right": null,
      "top": null,
      "visibility": null,
      "width": null
     }
    },
    "d83d6c0229564e959a04413be3fe46c4": {
     "model_module": "@jupyter-widgets/controls",
     "model_module_version": "1.5.0",
     "model_name": "ProgressStyleModel",
     "state": {
      "_model_module": "@jupyter-widgets/controls",
      "_model_module_version": "1.5.0",
      "_model_name": "ProgressStyleModel",
      "_view_count": null,
      "_view_module": "@jupyter-widgets/base",
      "_view_module_version": "1.2.0",
      "_view_name": "StyleView",
      "bar_color": null,
      "description_width": ""
     }
    },
    "e79a1f789bcd4b20846f040b93d28577": {
     "model_module": "@jupyter-widgets/base",
     "model_module_version": "1.2.0",
     "model_name": "LayoutModel",
     "state": {
      "_model_module": "@jupyter-widgets/base",
      "_model_module_version": "1.2.0",
      "_model_name": "LayoutModel",
      "_view_count": null,
      "_view_module": "@jupyter-widgets/base",
      "_view_module_version": "1.2.0",
      "_view_name": "LayoutView",
      "align_content": null,
      "align_items": null,
      "align_self": null,
      "border": null,
      "bottom": null,
      "display": null,
      "flex": null,
      "flex_flow": null,
      "grid_area": null,
      "grid_auto_columns": null,
      "grid_auto_flow": null,
      "grid_auto_rows": null,
      "grid_column": null,
      "grid_gap": null,
      "grid_row": null,
      "grid_template_areas": null,
      "grid_template_columns": null,
      "grid_template_rows": null,
      "height": null,
      "justify_content": null,
      "justify_items": null,
      "left": null,
      "margin": null,
      "max_height": null,
      "max_width": null,
      "min_height": null,
      "min_width": null,
      "object_fit": null,
      "object_position": null,
      "order": null,
      "overflow": null,
      "overflow_x": null,
      "overflow_y": null,
      "padding": null,
      "right": null,
      "top": null,
      "visibility": null,
      "width": null
     }
    },
    "f4c9b03f74d24632a4ab46c18e43368f": {
     "model_module": "@jupyter-widgets/controls",
     "model_module_version": "1.5.0",
     "model_name": "FloatProgressModel",
     "state": {
      "_dom_classes": [],
      "_model_module": "@jupyter-widgets/controls",
      "_model_module_version": "1.5.0",
      "_model_name": "FloatProgressModel",
      "_view_count": null,
      "_view_module": "@jupyter-widgets/controls",
      "_view_module_version": "1.5.0",
      "_view_name": "ProgressView",
      "bar_style": "success",
      "description": "",
      "description_tooltip": null,
      "layout": "IPY_MODEL_007589a5cf1f4550b353376f74f969a2",
      "max": 24184,
      "min": 0,
      "orientation": "horizontal",
      "style": "IPY_MODEL_d83d6c0229564e959a04413be3fe46c4",
      "value": 24184
     }
    },
    "f9be1436833d40deb4c997966768143d": {
     "model_module": "@jupyter-widgets/base",
     "model_module_version": "1.2.0",
     "model_name": "LayoutModel",
     "state": {
      "_model_module": "@jupyter-widgets/base",
      "_model_module_version": "1.2.0",
      "_model_name": "LayoutModel",
      "_view_count": null,
      "_view_module": "@jupyter-widgets/base",
      "_view_module_version": "1.2.0",
      "_view_name": "LayoutView",
      "align_content": null,
      "align_items": null,
      "align_self": null,
      "border": null,
      "bottom": null,
      "display": null,
      "flex": null,
      "flex_flow": null,
      "grid_area": null,
      "grid_auto_columns": null,
      "grid_auto_flow": null,
      "grid_auto_rows": null,
      "grid_column": null,
      "grid_gap": null,
      "grid_row": null,
      "grid_template_areas": null,
      "grid_template_columns": null,
      "grid_template_rows": null,
      "height": null,
      "justify_content": null,
      "justify_items": null,
      "left": null,
      "margin": null,
      "max_height": null,
      "max_width": null,
      "min_height": null,
      "min_width": null,
      "object_fit": null,
      "object_position": null,
      "order": null,
      "overflow": null,
      "overflow_x": null,
      "overflow_y": null,
      "padding": null,
      "right": null,
      "top": null,
      "visibility": null,
      "width": null
     }
    }
   }
  }
 },
 "nbformat": 4,
 "nbformat_minor": 1
}
